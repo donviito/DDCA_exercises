{
 "cells": [
  {
   "cell_type": "markdown",
   "metadata": {},
   "source": [
    "## Exercises\n",
    "\n",
    "1. **Schema Evolution**: Try adding a new column to your DataFrame and save it to the Delta table using the `mergeSchema` option.\n",
    "\n",
    "2. **Upsert Data**: Use the `merge` operation to upsert data into the Delta table.\n",
    "\n",
    "3. **Partitioning**: Save the Delta table with partitioning and observe the performance improvements.\n",
    "\n",
    "4. **Data Governance**: Explore Delta Lake's support for ACID transactions and how it ensures data integrity.\n"
   ]
  }
 ],
 "metadata": {
  "language_info": {
   "name": "python"
  }
 },
 "nbformat": 4,
 "nbformat_minor": 2
}
